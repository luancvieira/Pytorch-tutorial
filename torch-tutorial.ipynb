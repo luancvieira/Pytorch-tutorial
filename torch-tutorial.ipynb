{
 "cells": [
  {
   "cell_type": "markdown",
   "metadata": {},
   "source": [
    "# Tensors, operations, Indexing and Reshaping"
   ]
  },
  {
   "cell_type": "code",
   "execution_count": 46,
   "metadata": {},
   "outputs": [],
   "source": [
    "import torch\n",
    "import numpy as np"
   ]
  },
  {
   "cell_type": "code",
   "execution_count": 47,
   "metadata": {},
   "outputs": [
    {
     "data": {
      "text/plain": [
       "tensor([[1, 2, 3],\n",
       "        [4, 5, 6]])"
      ]
     },
     "execution_count": 47,
     "metadata": {},
     "output_type": "execute_result"
    }
   ],
   "source": [
    "my_tensor = torch.tensor([[1,2,3],[4,5,6]])\n",
    "my_tensor"
   ]
  },
  {
   "cell_type": "code",
   "execution_count": 48,
   "metadata": {},
   "outputs": [
    {
     "data": {
      "text/plain": [
       "(tensor([[1., 2., 3.],\n",
       "         [4., 5., 6.]]),\n",
       " tensor([[1., 2., 3.],\n",
       "         [4., 5., 6.]]))"
      ]
     },
     "execution_count": 48,
     "metadata": {},
     "output_type": "execute_result"
    }
   ],
   "source": [
    "my_tensor.to(torch.float32), \\\n",
    "    torch.tensor([[1,2,3],[4,5,6]], dtype = torch.float32)"
   ]
  },
  {
   "cell_type": "code",
   "execution_count": 49,
   "metadata": {},
   "outputs": [],
   "source": [
    "device = \"cuda\" if torch.cuda.is_available() else \"cpu\""
   ]
  },
  {
   "cell_type": "code",
   "execution_count": 50,
   "metadata": {},
   "outputs": [
    {
     "data": {
      "text/plain": [
       "tensor([[1, 2, 3],\n",
       "        [4, 5, 6]])"
      ]
     },
     "execution_count": 50,
     "metadata": {},
     "output_type": "execute_result"
    }
   ],
   "source": [
    "my_tensor.to(device = device)"
   ]
  },
  {
   "cell_type": "code",
   "execution_count": 51,
   "metadata": {},
   "outputs": [
    {
     "name": "stdout",
     "output_type": "stream",
     "text": [
      "torch.Size([2, 3])\n"
     ]
    }
   ],
   "source": [
    "print(my_tensor.shape)"
   ]
  },
  {
   "cell_type": "code",
   "execution_count": 52,
   "metadata": {},
   "outputs": [
    {
     "data": {
      "text/plain": [
       "(tensor([[0., 0., 0.],\n",
       "         [0., 0., 0.],\n",
       "         [0., 0., 0.]]),\n",
       " tensor([[0., 0., 0.],\n",
       "         [0., 0., 0.],\n",
       "         [0., 0., 0.]]),\n",
       " tensor([[True, True, True],\n",
       "         [True, True, True],\n",
       "         [True, True, True]]))"
      ]
     },
     "execution_count": 52,
     "metadata": {},
     "output_type": "execute_result"
    }
   ],
   "source": [
    "x = torch.empty(size=(3,3))\n",
    "y = torch.zeros(size=(3,3))\n",
    "x,y, x==y"
   ]
  },
  {
   "cell_type": "code",
   "execution_count": 53,
   "metadata": {},
   "outputs": [
    {
     "data": {
      "text/plain": [
       "tensor([[0.1876, 0.5100, 0.9076],\n",
       "        [0.6684, 0.2875, 0.1726],\n",
       "        [0.7079, 0.2816, 0.1613]])"
      ]
     },
     "execution_count": 53,
     "metadata": {},
     "output_type": "execute_result"
    }
   ],
   "source": [
    "torch.rand((3,3))"
   ]
  },
  {
   "cell_type": "code",
   "execution_count": 54,
   "metadata": {},
   "outputs": [
    {
     "data": {
      "text/plain": [
       "tensor([[1., 1.],\n",
       "        [1., 1.],\n",
       "        [1., 1.],\n",
       "        [1., 1.],\n",
       "        [1., 1.]])"
      ]
     },
     "execution_count": 54,
     "metadata": {},
     "output_type": "execute_result"
    }
   ],
   "source": [
    "torch.ones((5,2))"
   ]
  },
  {
   "cell_type": "code",
   "execution_count": 55,
   "metadata": {},
   "outputs": [
    {
     "data": {
      "text/plain": [
       "tensor([[1., 0., 0., 0., 0.],\n",
       "        [0., 1., 0., 0., 0.],\n",
       "        [0., 0., 1., 0., 0.],\n",
       "        [0., 0., 0., 1., 0.]])"
      ]
     },
     "execution_count": 55,
     "metadata": {},
     "output_type": "execute_result"
    }
   ],
   "source": [
    "torch.eye(n=4,m=5)"
   ]
  },
  {
   "cell_type": "code",
   "execution_count": 56,
   "metadata": {},
   "outputs": [
    {
     "data": {
      "text/plain": [
       "tensor([0, 1, 2, 3, 4])"
      ]
     },
     "execution_count": 56,
     "metadata": {},
     "output_type": "execute_result"
    }
   ],
   "source": [
    "torch.arange(start=0,end=5,step=1)"
   ]
  },
  {
   "cell_type": "code",
   "execution_count": 57,
   "metadata": {},
   "outputs": [
    {
     "data": {
      "text/plain": [
       "tensor([0.1000, 0.2000, 0.3000, 0.4000, 0.5000, 0.6000, 0.7000, 0.8000, 0.9000,\n",
       "        1.0000])"
      ]
     },
     "execution_count": 57,
     "metadata": {},
     "output_type": "execute_result"
    }
   ],
   "source": [
    "torch.linspace(start=.1,end = 1, steps = 10)"
   ]
  },
  {
   "cell_type": "code",
   "execution_count": 58,
   "metadata": {},
   "outputs": [
    {
     "data": {
      "text/plain": [
       "tensor([[-0.3205,  0.5932, -1.2921,  0.6085, -0.3224]])"
      ]
     },
     "execution_count": 58,
     "metadata": {},
     "output_type": "execute_result"
    }
   ],
   "source": [
    "torch.empty(size=(1,5)).normal_(mean=0, std = 1)"
   ]
  },
  {
   "cell_type": "code",
   "execution_count": 59,
   "metadata": {},
   "outputs": [
    {
     "name": "stdout",
     "output_type": "stream",
     "text": [
      "tensor([[0.4967, 0.3490, 0.6194, 0.5164, 0.4962],\n",
      "        [0.0115, 0.1640, 0.3559, 0.5299, 0.3409],\n",
      "        [0.1873, 0.4062, 0.2579, 0.4774, 0.3146]])\n"
     ]
    }
   ],
   "source": [
    "from torch.distributions import Beta\n",
    "\n",
    "alpha = 1 \n",
    "beta = 2   \n",
    "\n",
    "# Gerar amostra aleatórias beta\n",
    "amostra = Beta(alpha, beta).sample((3, 5))\n",
    "\n",
    "print(amostra)"
   ]
  },
  {
   "cell_type": "code",
   "execution_count": 60,
   "metadata": {},
   "outputs": [
    {
     "data": {
      "text/plain": [
       "(tensor([[1., 0., 0.],\n",
       "         [0., 1., 0.],\n",
       "         [0., 0., 1.]]),\n",
       " tensor([[1, 0, 0],\n",
       "         [0, 2, 0],\n",
       "         [0, 0, 3]]))"
      ]
     },
     "execution_count": 60,
     "metadata": {},
     "output_type": "execute_result"
    }
   ],
   "source": [
    "torch.diag(torch.ones(3)), \\\n",
    "    torch.diag(torch.tensor([1,2,3]))"
   ]
  },
  {
   "cell_type": "code",
   "execution_count": 61,
   "metadata": {},
   "outputs": [
    {
     "data": {
      "text/plain": [
       "(tensor([0., 1., 2., 3.], dtype=torch.float64),\n",
       " tensor([False,  True,  True,  True]))"
      ]
     },
     "execution_count": 61,
     "metadata": {},
     "output_type": "execute_result"
    }
   ],
   "source": [
    "tensor = torch.arange(4)\n",
    "tensor.double(), tensor.bool()"
   ]
  },
  {
   "cell_type": "code",
   "execution_count": 62,
   "metadata": {},
   "outputs": [
    {
     "data": {
      "text/plain": [
       "(tensor([[0., 0., 0., 0., 0.],\n",
       "         [0., 0., 0., 0., 0.],\n",
       "         [0., 0., 0., 0., 0.],\n",
       "         [0., 0., 0., 0., 0.],\n",
       "         [0., 0., 0., 0., 0.]], dtype=torch.float64),\n",
       " array([[0., 0., 0., 0., 0.],\n",
       "        [0., 0., 0., 0., 0.],\n",
       "        [0., 0., 0., 0., 0.],\n",
       "        [0., 0., 0., 0., 0.],\n",
       "        [0., 0., 0., 0., 0.]]))"
      ]
     },
     "execution_count": 62,
     "metadata": {},
     "output_type": "execute_result"
    }
   ],
   "source": [
    "torch.from_numpy(np.zeros((5,5))), \\\n",
    "    np.zeros((5,5))"
   ]
  },
  {
   "cell_type": "code",
   "execution_count": 63,
   "metadata": {},
   "outputs": [],
   "source": [
    "x = torch.tensor([1,2,3])\n",
    "y = torch.tensor([3,4,5])\n"
   ]
  },
  {
   "cell_type": "code",
   "execution_count": 64,
   "metadata": {},
   "outputs": [
    {
     "data": {
      "text/plain": [
       "tensor([4., 6., 8.])"
      ]
     },
     "execution_count": 64,
     "metadata": {},
     "output_type": "execute_result"
    }
   ],
   "source": [
    "z = torch.empty(3)\n",
    "torch.add(x,y, out = z)"
   ]
  },
  {
   "cell_type": "code",
   "execution_count": 65,
   "metadata": {},
   "outputs": [
    {
     "data": {
      "text/plain": [
       "tensor([4, 6, 8])"
      ]
     },
     "execution_count": 65,
     "metadata": {},
     "output_type": "execute_result"
    }
   ],
   "source": [
    "z = torch.add(x,y)\n",
    "z"
   ]
  },
  {
   "cell_type": "code",
   "execution_count": 66,
   "metadata": {},
   "outputs": [
    {
     "data": {
      "text/plain": [
       "tensor([4, 6, 8])"
      ]
     },
     "execution_count": 66,
     "metadata": {},
     "output_type": "execute_result"
    }
   ],
   "source": [
    "z = x + y\n",
    "z"
   ]
  },
  {
   "cell_type": "code",
   "execution_count": 67,
   "metadata": {},
   "outputs": [
    {
     "data": {
      "text/plain": [
       "tensor([0.3333, 0.5000, 0.6000])"
      ]
     },
     "execution_count": 67,
     "metadata": {},
     "output_type": "execute_result"
    }
   ],
   "source": [
    "z = torch.true_divide(x,y)\n",
    "z"
   ]
  },
  {
   "cell_type": "code",
   "execution_count": 68,
   "metadata": {},
   "outputs": [
    {
     "data": {
      "text/plain": [
       "tensor([0.3333, 0.5000, 0.6000])"
      ]
     },
     "execution_count": 68,
     "metadata": {},
     "output_type": "execute_result"
    }
   ],
   "source": [
    "z = x/y\n",
    "z"
   ]
  },
  {
   "cell_type": "code",
   "execution_count": 69,
   "metadata": {},
   "outputs": [
    {
     "data": {
      "text/plain": [
       "tensor([1., 2., 3.])"
      ]
     },
     "execution_count": 69,
     "metadata": {},
     "output_type": "execute_result"
    }
   ],
   "source": [
    "t = torch.zeros(3)\n",
    "#Substitui sem criar cópia \"_\"\n",
    "t.add_(x)"
   ]
  },
  {
   "cell_type": "code",
   "execution_count": 70,
   "metadata": {},
   "outputs": [
    {
     "data": {
      "text/plain": [
       "tensor([2., 4., 6.])"
      ]
     },
     "execution_count": 70,
     "metadata": {},
     "output_type": "execute_result"
    }
   ],
   "source": [
    "t += x\n",
    "t"
   ]
  },
  {
   "cell_type": "code",
   "execution_count": 71,
   "metadata": {},
   "outputs": [
    {
     "data": {
      "text/plain": [
       "tensor([ 4., 16., 36.])"
      ]
     },
     "execution_count": 71,
     "metadata": {},
     "output_type": "execute_result"
    }
   ],
   "source": [
    "z = t.pow(2)\n",
    "z"
   ]
  },
  {
   "cell_type": "code",
   "execution_count": 80,
   "metadata": {},
   "outputs": [
    {
     "data": {
      "text/plain": [
       "tensor([ 4., 16., 36.])"
      ]
     },
     "execution_count": 80,
     "metadata": {},
     "output_type": "execute_result"
    }
   ],
   "source": [
    "z = t**2\n",
    "z"
   ]
  },
  {
   "cell_type": "code",
   "execution_count": 81,
   "metadata": {},
   "outputs": [
    {
     "data": {
      "text/plain": [
       "tensor([False,  True,  True])"
      ]
     },
     "execution_count": 81,
     "metadata": {},
     "output_type": "execute_result"
    }
   ],
   "source": [
    "z > 5"
   ]
  },
  {
   "cell_type": "code",
   "execution_count": 82,
   "metadata": {},
   "outputs": [
    {
     "data": {
      "text/plain": [
       "tensor([[1.0543, 1.0210, 1.0285],\n",
       "        [0.9366, 1.0401, 1.0472]])"
      ]
     },
     "execution_count": 82,
     "metadata": {},
     "output_type": "execute_result"
    }
   ],
   "source": [
    "x1 = torch.rand((2,5))\n",
    "x2 = torch.rand((5,3))\n",
    "torch.mm(x1,x2)"
   ]
  },
  {
   "cell_type": "code",
   "execution_count": 83,
   "metadata": {},
   "outputs": [],
   "source": [
    "x3 = x1.mm(x2)"
   ]
  },
  {
   "cell_type": "code",
   "execution_count": 86,
   "metadata": {},
   "outputs": [
    {
     "data": {
      "text/plain": [
       "(tensor([[2.8838, 1.4063, 2.6158, 1.7453, 2.8406],\n",
       "         [2.1848, 1.3264, 1.8781, 1.4104, 2.1852],\n",
       "         [1.8902, 1.2007, 1.3855, 1.1338, 1.8574],\n",
       "         [2.4421, 1.3954, 1.8431, 1.5760, 2.4795],\n",
       "         [2.4754, 1.4657, 2.0221, 1.5975, 2.4952]]),\n",
       " tensor([[2.8838, 1.4063, 2.6158, 1.7453, 2.8406],\n",
       "         [2.1848, 1.3264, 1.8781, 1.4104, 2.1852],\n",
       "         [1.8902, 1.2007, 1.3855, 1.1338, 1.8574],\n",
       "         [2.4421, 1.3954, 1.8431, 1.5760, 2.4795],\n",
       "         [2.4754, 1.4657, 2.0221, 1.5975, 2.4952]]))"
      ]
     },
     "execution_count": 86,
     "metadata": {},
     "output_type": "execute_result"
    }
   ],
   "source": [
    "matrix_exp = torch.rand(5,5)\n",
    "matrix_exp.matrix_power(3), \\\n",
    "    torch.mm(matrix_exp, matrix_exp).mm(matrix_exp)"
   ]
  },
  {
   "cell_type": "code",
   "execution_count": 89,
   "metadata": {},
   "outputs": [
    {
     "data": {
      "text/plain": [
       "(tensor([1, 2, 3]), tensor([3, 4, 5]), tensor([ 3,  8, 15]))"
      ]
     },
     "execution_count": 89,
     "metadata": {},
     "output_type": "execute_result"
    }
   ],
   "source": [
    "#multiplicação elemento a elemento \n",
    "x, y , x*y\n"
   ]
  },
  {
   "cell_type": "code",
   "execution_count": 90,
   "metadata": {},
   "outputs": [
    {
     "data": {
      "text/plain": [
       "tensor(26)"
      ]
     },
     "execution_count": 90,
     "metadata": {},
     "output_type": "execute_result"
    }
   ],
   "source": [
    "#produto interno\n",
    "torch.dot(x,y)"
   ]
  },
  {
   "cell_type": "code",
   "execution_count": 94,
   "metadata": {},
   "outputs": [
    {
     "name": "stdout",
     "output_type": "stream",
     "text": [
      "\u001b[1;31mDocstring:\u001b[0m\n",
      "rand(*size, *, generator=None, out=None, dtype=None, layout=torch.strided, device=None, requires_grad=False, pin_memory=False) -> Tensor\n",
      "\n",
      "Returns a tensor filled with random numbers from a uniform distribution\n",
      "on the interval :math:`[0, 1)`\n",
      "\n",
      "The shape of the tensor is defined by the variable argument :attr:`size`.\n",
      "\n",
      "Args:\n",
      "    size (int...): a sequence of integers defining the shape of the output tensor.\n",
      "        Can be a variable number of arguments or a collection like a list or tuple.\n",
      "\n",
      "Keyword args:\n",
      "    generator (:class:`torch.Generator`, optional): a pseudorandom number generator for sampling\n",
      "    out (Tensor, optional): the output tensor.\n",
      "    dtype (:class:`torch.dtype`, optional): the desired data type of returned tensor.\n",
      "        Default: if ``None``, uses a global default (see :func:`torch.set_default_tensor_type`).\n",
      "    layout (:class:`torch.layout`, optional): the desired layout of returned Tensor.\n",
      "        Default: ``torch.strided``.\n",
      "    device (:class:`torch.device`, optional): the desired device of returned tensor.\n",
      "        Default: if ``None``, uses the current device for the default tensor type\n",
      "        (see :func:`torch.set_default_tensor_type`). :attr:`device` will be the CPU\n",
      "        for CPU tensor types and the current CUDA device for CUDA tensor types.\n",
      "    requires_grad (bool, optional): If autograd should record operations on the\n",
      "        returned tensor. Default: ``False``.\n",
      "    pin_memory (bool, optional): If set, returned tensor would be allocated in\n",
      "        the pinned memory. Works only for CPU tensors. Default: ``False``.\n",
      "\n",
      "Example::\n",
      "\n",
      "    >>> torch.rand(4)\n",
      "    tensor([ 0.5204,  0.2503,  0.3525,  0.5673])\n",
      "    >>> torch.rand(2, 3)\n",
      "    tensor([[ 0.8237,  0.5781,  0.6879],\n",
      "            [ 0.3816,  0.7249,  0.0998]])\n",
      "\u001b[1;31mType:\u001b[0m      builtin_function_or_method"
     ]
    }
   ],
   "source": [
    "?torch.rand"
   ]
  },
  {
   "cell_type": "code",
   "execution_count": 97,
   "metadata": {},
   "outputs": [
    {
     "data": {
      "text/plain": [
       "(tensor([[[0.4614, 0.2882, 0.1728],\n",
       "          [0.0042, 0.7656, 0.5497]],\n",
       " \n",
       "         [[0.2688, 0.3369, 0.2384],\n",
       "          [0.4119, 0.8581, 0.2803]],\n",
       " \n",
       "         [[0.7034, 0.3048, 0.9916],\n",
       "          [0.2326, 0.3866, 0.9431]]]),\n",
       " tensor([[[0.2274, 0.3822, 0.7573, 0.3020],\n",
       "          [0.6956, 0.6534, 0.9031, 0.0523],\n",
       "          [0.6498, 0.9579, 0.4229, 0.8809]],\n",
       " \n",
       "         [[0.3366, 0.9030, 0.5979, 0.6629],\n",
       "          [0.1236, 0.2964, 0.9598, 0.9096],\n",
       "          [0.9608, 0.8181, 0.8580, 0.8833]],\n",
       " \n",
       "         [[0.8581, 0.3982, 0.7402, 0.5847],\n",
       "          [0.7542, 0.7472, 0.7287, 0.3330],\n",
       "          [0.4826, 0.7994, 0.1581, 0.1384]]]))"
      ]
     },
     "execution_count": 97,
     "metadata": {},
     "output_type": "execute_result"
    }
   ],
   "source": [
    "batch = 3\n",
    "n=2\n",
    "m=3\n",
    "p = 4\n",
    "tensor1 = torch.rand((batch, n , m))\n",
    "tensor2 = torch.rand((batch, m , p))\n",
    "tensor1, tensor2"
   ]
  },
  {
   "cell_type": "code",
   "execution_count": 98,
   "metadata": {},
   "outputs": [
    {
     "data": {
      "text/plain": [
       "tensor([[[0.4177, 0.5301, 0.6828, 0.3066],\n",
       "         [0.8907, 1.0284, 0.9270, 0.5256]],\n",
       "\n",
       "        [[0.3612, 0.5376, 0.6886, 0.6952],\n",
       "         [0.5140, 0.8556, 1.3103, 1.3012]],\n",
       "\n",
       "        [[1.3120, 1.3005, 0.8994, 0.6500],\n",
       "         [0.9463, 1.1354, 0.6029, 0.3953]]])"
      ]
     },
     "execution_count": 98,
     "metadata": {},
     "output_type": "execute_result"
    }
   ],
   "source": [
    "torch.bmm(tensor1, tensor2)"
   ]
  },
  {
   "cell_type": "markdown",
   "metadata": {},
   "source": [
    "### Broadcasting"
   ]
  },
  {
   "cell_type": "code",
   "execution_count": 104,
   "metadata": {},
   "outputs": [
    {
     "data": {
      "text/plain": [
       "(tensor([[0.1473, 0.4961, 0.4105, 0.3873, 0.8635],\n",
       "         [0.0202, 0.6387, 0.8328, 0.6417, 0.3094],\n",
       "         [0.9902, 0.9108, 0.8381, 0.7899, 0.6245],\n",
       "         [0.3363, 0.9146, 0.0149, 0.3408, 0.6808],\n",
       "         [0.8379, 0.6517, 0.1930, 0.6660, 0.1193]]),\n",
       " tensor([[0.6182, 0.0681, 0.1150, 0.9283, 0.1848]]),\n",
       " tensor([[-0.4709,  0.4280,  0.2955, -0.5410,  0.6787],\n",
       "         [-0.5980,  0.5707,  0.7178, -0.2866,  0.1246],\n",
       "         [ 0.3720,  0.8427,  0.7232, -0.1385,  0.4397],\n",
       "         [-0.2819,  0.8465, -0.1000, -0.5875,  0.4960],\n",
       "         [ 0.2198,  0.5836,  0.0780, -0.2623, -0.0656]]))"
      ]
     },
     "execution_count": 104,
     "metadata": {},
     "output_type": "execute_result"
    }
   ],
   "source": [
    "x1 = torch.rand((5,5))\n",
    "x2 = torch.rand((1,5))\n",
    "\n",
    "z = x1 - x2\n",
    "x1, x2, z"
   ]
  },
  {
   "cell_type": "code",
   "execution_count": 107,
   "metadata": {},
   "outputs": [
    {
     "data": {
      "text/plain": [
       "(tensor([[0.1473, 0.4961, 0.4105, 0.3873, 0.8635],\n",
       "         [0.0202, 0.6387, 0.8328, 0.6417, 0.3094],\n",
       "         [0.9902, 0.9108, 0.8381, 0.7899, 0.6245],\n",
       "         [0.3363, 0.9146, 0.0149, 0.3408, 0.6808],\n",
       "         [0.8379, 0.6517, 0.1930, 0.6660, 0.1193]]),\n",
       " tensor([[0.6182],\n",
       "         [0.0681],\n",
       "         [0.1150],\n",
       "         [0.9283],\n",
       "         [0.1848]]),\n",
       " tensor([[-0.4709, -0.1221, -0.2077, -0.2309,  0.2453],\n",
       "         [-0.0479,  0.5707,  0.7647,  0.5737,  0.2413],\n",
       "         [ 0.8752,  0.7958,  0.7232,  0.6749,  0.5096],\n",
       "         [-0.5920, -0.0137, -0.9134, -0.5875, -0.2475],\n",
       "         [ 0.6531,  0.4668,  0.0082,  0.4812, -0.0656]]))"
      ]
     },
     "execution_count": 107,
     "metadata": {},
     "output_type": "execute_result"
    }
   ],
   "source": [
    "z2 = x1 - x2.T\n",
    "x1,x2.T,z2"
   ]
  },
  {
   "cell_type": "code",
   "execution_count": 110,
   "metadata": {},
   "outputs": [
    {
     "data": {
      "text/plain": [
       "(tensor([[0.1473, 0.4961, 0.4105, 0.3873, 0.8635],\n",
       "         [0.0202, 0.6387, 0.8328, 0.6417, 0.3094],\n",
       "         [0.9902, 0.9108, 0.8381, 0.7899, 0.6245],\n",
       "         [0.3363, 0.9146, 0.0149, 0.3408, 0.6808],\n",
       "         [0.8379, 0.6517, 0.1930, 0.6660, 0.1193]]),\n",
       " tensor([2.3318, 3.6119, 2.2893, 2.8257, 2.5975]),\n",
       " tensor([2.3047, 2.4428, 4.1535, 2.2874, 2.4678]))"
      ]
     },
     "execution_count": 110,
     "metadata": {},
     "output_type": "execute_result"
    }
   ],
   "source": [
    "s1 = torch.sum(x1, dim = 0) # total da coluna\n",
    "s2 = torch.sum(x1, dim = 1) # total da linha\n",
    "x1, s1, s2"
   ]
  },
  {
   "cell_type": "code",
   "execution_count": 116,
   "metadata": {},
   "outputs": [
    {
     "data": {
      "text/plain": [
       "(tensor([0.9902, 0.9146, 0.8381, 0.7899, 0.8635]), tensor([2, 3, 2, 2, 0]))"
      ]
     },
     "execution_count": 116,
     "metadata": {},
     "output_type": "execute_result"
    }
   ],
   "source": [
    "values, indices = torch.max(x1, dim = 0)\n",
    "values, indices"
   ]
  },
  {
   "cell_type": "code",
   "execution_count": 118,
   "metadata": {},
   "outputs": [
    {
     "data": {
      "text/plain": [
       "tensor([2, 3, 2, 2, 0])"
      ]
     },
     "execution_count": 118,
     "metadata": {},
     "output_type": "execute_result"
    }
   ],
   "source": [
    "torch.argmax(x1, dim = 0)"
   ]
  },
  {
   "cell_type": "code",
   "execution_count": 121,
   "metadata": {},
   "outputs": [
    {
     "data": {
      "text/plain": [
       "tensor([0.4664, 0.7224, 0.4579, 0.5651, 0.5195])"
      ]
     },
     "execution_count": 121,
     "metadata": {},
     "output_type": "execute_result"
    }
   ],
   "source": [
    "torch.mean(x1, dim = 0)"
   ]
  },
  {
   "cell_type": "code",
   "execution_count": 124,
   "metadata": {},
   "outputs": [
    {
     "data": {
      "text/plain": [
       "tensor([[False, False, False, False, False],\n",
       "        [False, False, False, False, False],\n",
       "        [False, False, False, False, False],\n",
       "        [False, False, False, False, False],\n",
       "        [False, False, False, False, False]])"
      ]
     },
     "execution_count": 124,
     "metadata": {},
     "output_type": "execute_result"
    }
   ],
   "source": [
    "torch.eq(x1,x1+1)"
   ]
  },
  {
   "cell_type": "code",
   "execution_count": 127,
   "metadata": {},
   "outputs": [
    {
     "data": {
      "text/plain": [
       "(tensor([[0.1473, 0.4961, 0.4105, 0.3873, 0.8635],\n",
       "         [0.0202, 0.6387, 0.8328, 0.6417, 0.3094],\n",
       "         [0.9902, 0.9108, 0.8381, 0.7899, 0.6245],\n",
       "         [0.3363, 0.9146, 0.0149, 0.3408, 0.6808],\n",
       "         [0.8379, 0.6517, 0.1930, 0.6660, 0.1193]]),\n",
       " tensor([[0.0202, 0.4961, 0.0149, 0.3408, 0.1193],\n",
       "         [0.1473, 0.6387, 0.1930, 0.3873, 0.3094],\n",
       "         [0.3363, 0.6517, 0.4105, 0.6417, 0.6245],\n",
       "         [0.8379, 0.9108, 0.8328, 0.6660, 0.6808],\n",
       "         [0.9902, 0.9146, 0.8381, 0.7899, 0.8635]]))"
      ]
     },
     "execution_count": 127,
     "metadata": {},
     "output_type": "execute_result"
    }
   ],
   "source": [
    "values, indices = torch.sort(x1, dim = 0, descending = False)\n",
    "x1, values"
   ]
  },
  {
   "cell_type": "code",
   "execution_count": 131,
   "metadata": {},
   "outputs": [
    {
     "data": {
      "text/plain": [
       "tensor([[0.5000, 0.5000, 0.5000, 0.5000, 0.8635],\n",
       "        [0.5000, 0.6387, 0.8328, 0.6417, 0.5000],\n",
       "        [0.9902, 0.9108, 0.8381, 0.7899, 0.6245],\n",
       "        [0.5000, 0.9146, 0.5000, 0.5000, 0.6808],\n",
       "        [0.8379, 0.6517, 0.5000, 0.6660, 0.5000]])"
      ]
     },
     "execution_count": 131,
     "metadata": {},
     "output_type": "execute_result"
    }
   ],
   "source": [
    "torch.clamp(x1, min = 0.5)"
   ]
  },
  {
   "cell_type": "code",
   "execution_count": 135,
   "metadata": {},
   "outputs": [
    {
     "data": {
      "text/plain": [
       "(tensor(True), tensor(False))"
      ]
     },
     "execution_count": 135,
     "metadata": {},
     "output_type": "execute_result"
    }
   ],
   "source": [
    "x = torch.tensor([1,0,1,1,1], dtype = torch.bool)\n",
    "torch.any(x), torch.all(x)"
   ]
  },
  {
   "cell_type": "code",
   "execution_count": 138,
   "metadata": {},
   "outputs": [
    {
     "data": {
      "text/plain": [
       "torch.return_types.max(\n",
       "values=tensor(True),\n",
       "indices=tensor(0))"
      ]
     },
     "execution_count": 138,
     "metadata": {},
     "output_type": "execute_result"
    }
   ],
   "source": [
    "x.max(dim = 0)"
   ]
  },
  {
   "cell_type": "code",
   "execution_count": null,
   "metadata": {},
   "outputs": [],
   "source": [
    "batch_size = 10\n",
    "features = 25\n",
    "torch.rand"
   ]
  }
 ],
 "metadata": {
  "kernelspec": {
   "display_name": "Python 3",
   "language": "python",
   "name": "python3"
  },
  "language_info": {
   "codemirror_mode": {
    "name": "ipython",
    "version": 3
   },
   "file_extension": ".py",
   "mimetype": "text/x-python",
   "name": "python",
   "nbconvert_exporter": "python",
   "pygments_lexer": "ipython3",
   "version": "3.10.9"
  },
  "orig_nbformat": 4
 },
 "nbformat": 4,
 "nbformat_minor": 2
}
