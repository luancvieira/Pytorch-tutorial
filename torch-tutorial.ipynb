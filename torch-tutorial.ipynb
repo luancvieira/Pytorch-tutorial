{
 "cells": [
  {
   "cell_type": "markdown",
   "metadata": {},
   "source": [
    "# Tensors: operations, indexing and reshaping"
   ]
  },
  {
   "cell_type": "code",
   "execution_count": 152,
   "metadata": {},
   "outputs": [],
   "source": [
    "import torch\n",
    "import numpy as np"
   ]
  },
  {
   "cell_type": "code",
   "execution_count": 153,
   "metadata": {},
   "outputs": [
    {
     "data": {
      "text/plain": [
       "tensor([[1, 2, 3],\n",
       "        [4, 5, 6]])"
      ]
     },
     "execution_count": 153,
     "metadata": {},
     "output_type": "execute_result"
    }
   ],
   "source": [
    "my_tensor = torch.tensor([[1,2,3],[4,5,6]])\n",
    "my_tensor"
   ]
  },
  {
   "cell_type": "code",
   "execution_count": 154,
   "metadata": {},
   "outputs": [
    {
     "data": {
      "text/plain": [
       "(tensor([[1., 2., 3.],\n",
       "         [4., 5., 6.]]),\n",
       " tensor([[1., 2., 3.],\n",
       "         [4., 5., 6.]]))"
      ]
     },
     "execution_count": 154,
     "metadata": {},
     "output_type": "execute_result"
    }
   ],
   "source": [
    "my_tensor.to(torch.float32), \\\n",
    "    torch.tensor([[1,2,3],[4,5,6]], dtype = torch.float32)"
   ]
  },
  {
   "cell_type": "code",
   "execution_count": 155,
   "metadata": {},
   "outputs": [],
   "source": [
    "device = \"cuda\" if torch.cuda.is_available() else \"cpu\""
   ]
  },
  {
   "cell_type": "code",
   "execution_count": 156,
   "metadata": {},
   "outputs": [
    {
     "data": {
      "text/plain": [
       "tensor([[1, 2, 3],\n",
       "        [4, 5, 6]])"
      ]
     },
     "execution_count": 156,
     "metadata": {},
     "output_type": "execute_result"
    }
   ],
   "source": [
    "my_tensor.to(device = device)"
   ]
  },
  {
   "cell_type": "code",
   "execution_count": 157,
   "metadata": {},
   "outputs": [
    {
     "name": "stdout",
     "output_type": "stream",
     "text": [
      "torch.Size([2, 3])\n"
     ]
    }
   ],
   "source": [
    "print(my_tensor.shape)"
   ]
  },
  {
   "cell_type": "code",
   "execution_count": 158,
   "metadata": {},
   "outputs": [
    {
     "data": {
      "text/plain": [
       "(tensor([[0., 0., 0.],\n",
       "         [0., 0., 0.],\n",
       "         [0., 0., 0.]]),\n",
       " tensor([[0., 0., 0.],\n",
       "         [0., 0., 0.],\n",
       "         [0., 0., 0.]]),\n",
       " tensor([[True, True, True],\n",
       "         [True, True, True],\n",
       "         [True, True, True]]))"
      ]
     },
     "execution_count": 158,
     "metadata": {},
     "output_type": "execute_result"
    }
   ],
   "source": [
    "x = torch.empty(size=(3,3))\n",
    "y = torch.zeros(size=(3,3))\n",
    "x,y, x==y"
   ]
  },
  {
   "cell_type": "code",
   "execution_count": 159,
   "metadata": {},
   "outputs": [
    {
     "data": {
      "text/plain": [
       "tensor([[0.6729, 0.7803, 0.5050],\n",
       "        [0.7865, 0.2807, 0.0347],\n",
       "        [0.0702, 0.9268, 0.1683]])"
      ]
     },
     "execution_count": 159,
     "metadata": {},
     "output_type": "execute_result"
    }
   ],
   "source": [
    "torch.rand((3,3))"
   ]
  },
  {
   "cell_type": "code",
   "execution_count": 160,
   "metadata": {},
   "outputs": [
    {
     "data": {
      "text/plain": [
       "tensor([[1., 1.],\n",
       "        [1., 1.],\n",
       "        [1., 1.],\n",
       "        [1., 1.],\n",
       "        [1., 1.]])"
      ]
     },
     "execution_count": 160,
     "metadata": {},
     "output_type": "execute_result"
    }
   ],
   "source": [
    "torch.ones((5,2))"
   ]
  },
  {
   "cell_type": "code",
   "execution_count": 161,
   "metadata": {},
   "outputs": [
    {
     "data": {
      "text/plain": [
       "tensor([[1., 0., 0., 0., 0.],\n",
       "        [0., 1., 0., 0., 0.],\n",
       "        [0., 0., 1., 0., 0.],\n",
       "        [0., 0., 0., 1., 0.]])"
      ]
     },
     "execution_count": 161,
     "metadata": {},
     "output_type": "execute_result"
    }
   ],
   "source": [
    "torch.eye(n=4,m=5)"
   ]
  },
  {
   "cell_type": "code",
   "execution_count": 162,
   "metadata": {},
   "outputs": [
    {
     "data": {
      "text/plain": [
       "tensor([0, 1, 2, 3, 4])"
      ]
     },
     "execution_count": 162,
     "metadata": {},
     "output_type": "execute_result"
    }
   ],
   "source": [
    "torch.arange(start=0,end=5,step=1)"
   ]
  },
  {
   "cell_type": "code",
   "execution_count": 163,
   "metadata": {},
   "outputs": [
    {
     "data": {
      "text/plain": [
       "tensor([0.1000, 0.2000, 0.3000, 0.4000, 0.5000, 0.6000, 0.7000, 0.8000, 0.9000,\n",
       "        1.0000])"
      ]
     },
     "execution_count": 163,
     "metadata": {},
     "output_type": "execute_result"
    }
   ],
   "source": [
    "torch.linspace(start=.1,end = 1, steps = 10)"
   ]
  },
  {
   "cell_type": "code",
   "execution_count": 164,
   "metadata": {},
   "outputs": [
    {
     "data": {
      "text/plain": [
       "tensor([[ 0.4819,  1.5586, -1.8064, -1.7738,  0.0877]])"
      ]
     },
     "execution_count": 164,
     "metadata": {},
     "output_type": "execute_result"
    }
   ],
   "source": [
    "torch.empty(size=(1,5)).normal_(mean=0, std = 1)"
   ]
  },
  {
   "cell_type": "code",
   "execution_count": 165,
   "metadata": {},
   "outputs": [
    {
     "name": "stdout",
     "output_type": "stream",
     "text": [
      "tensor([[0.1339, 0.3923, 0.3897, 0.2355, 0.0131],\n",
      "        [0.4669, 0.1225, 0.2683, 0.1726, 0.2191],\n",
      "        [0.1552, 0.0188, 0.2153, 0.6070, 0.0237]])\n"
     ]
    }
   ],
   "source": [
    "from torch.distributions import Beta\n",
    "\n",
    "alpha = 1 \n",
    "beta = 2   \n",
    "\n",
    "# Gerar amostra aleatórias beta\n",
    "amostra = Beta(alpha, beta).sample((3, 5))\n",
    "\n",
    "print(amostra)"
   ]
  },
  {
   "cell_type": "code",
   "execution_count": 166,
   "metadata": {},
   "outputs": [
    {
     "data": {
      "text/plain": [
       "(tensor([[1., 0., 0.],\n",
       "         [0., 1., 0.],\n",
       "         [0., 0., 1.]]),\n",
       " tensor([[1, 0, 0],\n",
       "         [0, 2, 0],\n",
       "         [0, 0, 3]]))"
      ]
     },
     "execution_count": 166,
     "metadata": {},
     "output_type": "execute_result"
    }
   ],
   "source": [
    "torch.diag(torch.ones(3)), \\\n",
    "    torch.diag(torch.tensor([1,2,3]))"
   ]
  },
  {
   "cell_type": "code",
   "execution_count": 167,
   "metadata": {},
   "outputs": [
    {
     "data": {
      "text/plain": [
       "(tensor([0., 1., 2., 3.], dtype=torch.float64),\n",
       " tensor([False,  True,  True,  True]))"
      ]
     },
     "execution_count": 167,
     "metadata": {},
     "output_type": "execute_result"
    }
   ],
   "source": [
    "tensor = torch.arange(4)\n",
    "tensor.double(), tensor.bool()"
   ]
  },
  {
   "cell_type": "code",
   "execution_count": 168,
   "metadata": {},
   "outputs": [
    {
     "data": {
      "text/plain": [
       "(tensor([[0., 0., 0., 0., 0.],\n",
       "         [0., 0., 0., 0., 0.],\n",
       "         [0., 0., 0., 0., 0.],\n",
       "         [0., 0., 0., 0., 0.],\n",
       "         [0., 0., 0., 0., 0.]], dtype=torch.float64),\n",
       " array([[0., 0., 0., 0., 0.],\n",
       "        [0., 0., 0., 0., 0.],\n",
       "        [0., 0., 0., 0., 0.],\n",
       "        [0., 0., 0., 0., 0.],\n",
       "        [0., 0., 0., 0., 0.]]))"
      ]
     },
     "execution_count": 168,
     "metadata": {},
     "output_type": "execute_result"
    }
   ],
   "source": [
    "torch.from_numpy(np.zeros((5,5))), \\\n",
    "    np.zeros((5,5))"
   ]
  },
  {
   "cell_type": "code",
   "execution_count": 169,
   "metadata": {},
   "outputs": [],
   "source": [
    "x = torch.tensor([1,2,3])\n",
    "y = torch.tensor([3,4,5])\n"
   ]
  },
  {
   "cell_type": "code",
   "execution_count": 170,
   "metadata": {},
   "outputs": [
    {
     "data": {
      "text/plain": [
       "tensor([4., 6., 8.])"
      ]
     },
     "execution_count": 170,
     "metadata": {},
     "output_type": "execute_result"
    }
   ],
   "source": [
    "z = torch.empty(3)\n",
    "torch.add(x,y, out = z)"
   ]
  },
  {
   "cell_type": "code",
   "execution_count": 171,
   "metadata": {},
   "outputs": [
    {
     "data": {
      "text/plain": [
       "tensor([4, 6, 8])"
      ]
     },
     "execution_count": 171,
     "metadata": {},
     "output_type": "execute_result"
    }
   ],
   "source": [
    "z = torch.add(x,y)\n",
    "z"
   ]
  },
  {
   "cell_type": "code",
   "execution_count": 172,
   "metadata": {},
   "outputs": [
    {
     "data": {
      "text/plain": [
       "tensor([4, 6, 8])"
      ]
     },
     "execution_count": 172,
     "metadata": {},
     "output_type": "execute_result"
    }
   ],
   "source": [
    "z = x + y\n",
    "z"
   ]
  },
  {
   "cell_type": "code",
   "execution_count": 173,
   "metadata": {},
   "outputs": [
    {
     "data": {
      "text/plain": [
       "tensor([0.3333, 0.5000, 0.6000])"
      ]
     },
     "execution_count": 173,
     "metadata": {},
     "output_type": "execute_result"
    }
   ],
   "source": [
    "z = torch.true_divide(x,y)\n",
    "z"
   ]
  },
  {
   "cell_type": "code",
   "execution_count": 174,
   "metadata": {},
   "outputs": [
    {
     "data": {
      "text/plain": [
       "tensor([0.3333, 0.5000, 0.6000])"
      ]
     },
     "execution_count": 174,
     "metadata": {},
     "output_type": "execute_result"
    }
   ],
   "source": [
    "z = x/y\n",
    "z"
   ]
  },
  {
   "cell_type": "code",
   "execution_count": 175,
   "metadata": {},
   "outputs": [
    {
     "data": {
      "text/plain": [
       "tensor([1., 2., 3.])"
      ]
     },
     "execution_count": 175,
     "metadata": {},
     "output_type": "execute_result"
    }
   ],
   "source": [
    "t = torch.zeros(3)\n",
    "#Substitui sem criar cópia \"_\"\n",
    "t.add_(x)"
   ]
  },
  {
   "cell_type": "code",
   "execution_count": 176,
   "metadata": {},
   "outputs": [
    {
     "data": {
      "text/plain": [
       "tensor([2., 4., 6.])"
      ]
     },
     "execution_count": 176,
     "metadata": {},
     "output_type": "execute_result"
    }
   ],
   "source": [
    "t += x\n",
    "t"
   ]
  },
  {
   "cell_type": "code",
   "execution_count": 177,
   "metadata": {},
   "outputs": [
    {
     "data": {
      "text/plain": [
       "tensor([ 4., 16., 36.])"
      ]
     },
     "execution_count": 177,
     "metadata": {},
     "output_type": "execute_result"
    }
   ],
   "source": [
    "z = t.pow(2)\n",
    "z"
   ]
  },
  {
   "cell_type": "code",
   "execution_count": 178,
   "metadata": {},
   "outputs": [
    {
     "data": {
      "text/plain": [
       "tensor([ 4., 16., 36.])"
      ]
     },
     "execution_count": 178,
     "metadata": {},
     "output_type": "execute_result"
    }
   ],
   "source": [
    "z = t**2\n",
    "z"
   ]
  },
  {
   "cell_type": "code",
   "execution_count": 179,
   "metadata": {},
   "outputs": [
    {
     "data": {
      "text/plain": [
       "tensor([False,  True,  True])"
      ]
     },
     "execution_count": 179,
     "metadata": {},
     "output_type": "execute_result"
    }
   ],
   "source": [
    "z > 5"
   ]
  },
  {
   "cell_type": "code",
   "execution_count": 180,
   "metadata": {},
   "outputs": [
    {
     "data": {
      "text/plain": [
       "tensor([[1.4131, 1.5054, 1.0477],\n",
       "        [0.8761, 0.9008, 0.6736]])"
      ]
     },
     "execution_count": 180,
     "metadata": {},
     "output_type": "execute_result"
    }
   ],
   "source": [
    "x1 = torch.rand((2,5))\n",
    "x2 = torch.rand((5,3))\n",
    "torch.mm(x1,x2)"
   ]
  },
  {
   "cell_type": "code",
   "execution_count": 181,
   "metadata": {},
   "outputs": [],
   "source": [
    "x3 = x1.mm(x2)"
   ]
  },
  {
   "cell_type": "code",
   "execution_count": 182,
   "metadata": {},
   "outputs": [
    {
     "data": {
      "text/plain": [
       "(tensor([[1.8735, 1.5813, 2.0360, 1.9147, 1.8596],\n",
       "         [3.3535, 2.5622, 3.1475, 3.4484, 2.9497],\n",
       "         [3.3299, 2.8620, 3.4274, 3.1139, 3.3424],\n",
       "         [0.8752, 0.7060, 0.8802, 0.8938, 0.8193],\n",
       "         [2.5062, 2.0652, 2.5335, 2.4552, 2.4039]]),\n",
       " tensor([[1.8735, 1.5813, 2.0360, 1.9147, 1.8596],\n",
       "         [3.3535, 2.5622, 3.1475, 3.4484, 2.9497],\n",
       "         [3.3299, 2.8620, 3.4274, 3.1139, 3.3424],\n",
       "         [0.8752, 0.7060, 0.8802, 0.8938, 0.8193],\n",
       "         [2.5062, 2.0652, 2.5335, 2.4552, 2.4039]]))"
      ]
     },
     "execution_count": 182,
     "metadata": {},
     "output_type": "execute_result"
    }
   ],
   "source": [
    "matrix_exp = torch.rand(5,5)\n",
    "matrix_exp.matrix_power(3), \\\n",
    "    torch.mm(matrix_exp, matrix_exp).mm(matrix_exp)"
   ]
  },
  {
   "cell_type": "code",
   "execution_count": 183,
   "metadata": {},
   "outputs": [
    {
     "data": {
      "text/plain": [
       "(tensor([1, 2, 3]), tensor([3, 4, 5]), tensor([ 3,  8, 15]))"
      ]
     },
     "execution_count": 183,
     "metadata": {},
     "output_type": "execute_result"
    }
   ],
   "source": [
    "#multiplicação elemento a elemento \n",
    "x, y , x*y\n"
   ]
  },
  {
   "cell_type": "code",
   "execution_count": 184,
   "metadata": {},
   "outputs": [
    {
     "data": {
      "text/plain": [
       "tensor(26)"
      ]
     },
     "execution_count": 184,
     "metadata": {},
     "output_type": "execute_result"
    }
   ],
   "source": [
    "#produto interno\n",
    "torch.dot(x,y)"
   ]
  },
  {
   "cell_type": "code",
   "execution_count": 185,
   "metadata": {},
   "outputs": [
    {
     "name": "stdout",
     "output_type": "stream",
     "text": [
      "\u001b[1;31mDocstring:\u001b[0m\n",
      "rand(*size, *, generator=None, out=None, dtype=None, layout=torch.strided, device=None, requires_grad=False, pin_memory=False) -> Tensor\n",
      "\n",
      "Returns a tensor filled with random numbers from a uniform distribution\n",
      "on the interval :math:`[0, 1)`\n",
      "\n",
      "The shape of the tensor is defined by the variable argument :attr:`size`.\n",
      "\n",
      "Args:\n",
      "    size (int...): a sequence of integers defining the shape of the output tensor.\n",
      "        Can be a variable number of arguments or a collection like a list or tuple.\n",
      "\n",
      "Keyword args:\n",
      "    generator (:class:`torch.Generator`, optional): a pseudorandom number generator for sampling\n",
      "    out (Tensor, optional): the output tensor.\n",
      "    dtype (:class:`torch.dtype`, optional): the desired data type of returned tensor.\n",
      "        Default: if ``None``, uses a global default (see :func:`torch.set_default_tensor_type`).\n",
      "    layout (:class:`torch.layout`, optional): the desired layout of returned Tensor.\n",
      "        Default: ``torch.strided``.\n",
      "    device (:class:`torch.device`, optional): the desired device of returned tensor.\n",
      "        Default: if ``None``, uses the current device for the default tensor type\n",
      "        (see :func:`torch.set_default_tensor_type`). :attr:`device` will be the CPU\n",
      "        for CPU tensor types and the current CUDA device for CUDA tensor types.\n",
      "    requires_grad (bool, optional): If autograd should record operations on the\n",
      "        returned tensor. Default: ``False``.\n",
      "    pin_memory (bool, optional): If set, returned tensor would be allocated in\n",
      "        the pinned memory. Works only for CPU tensors. Default: ``False``.\n",
      "\n",
      "Example::\n",
      "\n",
      "    >>> torch.rand(4)\n",
      "    tensor([ 0.5204,  0.2503,  0.3525,  0.5673])\n",
      "    >>> torch.rand(2, 3)\n",
      "    tensor([[ 0.8237,  0.5781,  0.6879],\n",
      "            [ 0.3816,  0.7249,  0.0998]])\n",
      "\u001b[1;31mType:\u001b[0m      builtin_function_or_method"
     ]
    }
   ],
   "source": [
    "?torch.rand"
   ]
  },
  {
   "cell_type": "code",
   "execution_count": 186,
   "metadata": {},
   "outputs": [
    {
     "data": {
      "text/plain": [
       "(tensor([[[0.2370, 0.7802, 0.5054],\n",
       "          [0.0709, 0.2151, 0.4990]],\n",
       " \n",
       "         [[0.8822, 0.9386, 0.9140],\n",
       "          [0.3976, 0.0968, 0.0620]],\n",
       " \n",
       "         [[0.9614, 0.6960, 0.8795],\n",
       "          [0.6558, 0.9617, 0.9539]]]),\n",
       " tensor([[[0.5592, 0.2741, 0.5490, 0.1815],\n",
       "          [0.2798, 0.6735, 0.0871, 0.8809],\n",
       "          [0.9003, 0.6567, 0.5135, 0.8920]],\n",
       " \n",
       "         [[0.0264, 0.7002, 0.8478, 0.1054],\n",
       "          [0.2772, 0.5632, 0.3883, 0.1901],\n",
       "          [0.7082, 0.9757, 0.6436, 0.2072]],\n",
       " \n",
       "         [[0.7371, 0.9987, 0.4855, 0.1724],\n",
       "          [0.7548, 0.6671, 0.7721, 0.4141],\n",
       "          [0.4191, 0.6423, 0.1100, 0.5531]]]))"
      ]
     },
     "execution_count": 186,
     "metadata": {},
     "output_type": "execute_result"
    }
   ],
   "source": [
    "batch = 3\n",
    "n=2\n",
    "m=3\n",
    "p = 4\n",
    "tensor1 = torch.rand((batch, n , m))\n",
    "tensor2 = torch.rand((batch, m , p))\n",
    "tensor1, tensor2"
   ]
  },
  {
   "cell_type": "code",
   "execution_count": 187,
   "metadata": {},
   "outputs": [
    {
     "data": {
      "text/plain": [
       "tensor([[[0.8059, 0.9224, 0.4576, 1.1811],\n",
       "         [0.5491, 0.4920, 0.3139, 0.6474]],\n",
       "\n",
       "        [[0.9308, 2.0382, 1.7007, 0.4608],\n",
       "         [0.0812, 0.3934, 0.4146, 0.0732]],\n",
       "\n",
       "        [[1.6026, 1.9893, 1.1009, 0.9404],\n",
       "         [1.6091, 1.9092, 1.1659, 1.0389]]])"
      ]
     },
     "execution_count": 187,
     "metadata": {},
     "output_type": "execute_result"
    }
   ],
   "source": [
    "torch.bmm(tensor1, tensor2)"
   ]
  },
  {
   "cell_type": "markdown",
   "metadata": {},
   "source": [
    "### Broadcasting"
   ]
  },
  {
   "cell_type": "code",
   "execution_count": 188,
   "metadata": {},
   "outputs": [
    {
     "data": {
      "text/plain": [
       "(tensor([[0.8071, 0.7818, 0.6377, 0.3608, 0.4805],\n",
       "         [0.7157, 0.7902, 0.2119, 0.9482, 0.2568],\n",
       "         [0.0471, 0.4824, 0.1981, 0.4940, 0.2750],\n",
       "         [0.6720, 0.2285, 0.2737, 0.1402, 0.8384],\n",
       "         [0.2107, 0.4492, 0.5409, 0.5114, 0.7867]]),\n",
       " tensor([[0.9075, 0.4454, 0.9298, 0.8243, 0.3197]]),\n",
       " tensor([[-0.1004,  0.3364, -0.2921, -0.4636,  0.1608],\n",
       "         [-0.1919,  0.3448, -0.7178,  0.1239, -0.0629],\n",
       "         [-0.8604,  0.0370, -0.7317, -0.3304, -0.0447],\n",
       "         [-0.2355, -0.2169, -0.6561, -0.6841,  0.5187],\n",
       "         [-0.6969,  0.0039, -0.3889, -0.3129,  0.4670]]))"
      ]
     },
     "execution_count": 188,
     "metadata": {},
     "output_type": "execute_result"
    }
   ],
   "source": [
    "x1 = torch.rand((5,5))\n",
    "x2 = torch.rand((1,5))\n",
    "\n",
    "z = x1 - x2\n",
    "x1, x2, z"
   ]
  },
  {
   "cell_type": "code",
   "execution_count": 189,
   "metadata": {},
   "outputs": [
    {
     "data": {
      "text/plain": [
       "(tensor([[0.8071, 0.7818, 0.6377, 0.3608, 0.4805],\n",
       "         [0.7157, 0.7902, 0.2119, 0.9482, 0.2568],\n",
       "         [0.0471, 0.4824, 0.1981, 0.4940, 0.2750],\n",
       "         [0.6720, 0.2285, 0.2737, 0.1402, 0.8384],\n",
       "         [0.2107, 0.4492, 0.5409, 0.5114, 0.7867]]),\n",
       " tensor([[0.9075],\n",
       "         [0.4454],\n",
       "         [0.9298],\n",
       "         [0.8243],\n",
       "         [0.3197]]),\n",
       " tensor([[-0.1004, -0.1258, -0.2698, -0.5468, -0.4270],\n",
       "         [ 0.2703,  0.3448, -0.2334,  0.5028, -0.1886],\n",
       "         [-0.8827, -0.4474, -0.7317, -0.4358, -0.6548],\n",
       "         [-0.1523, -0.5958, -0.5506, -0.6841,  0.0141],\n",
       "         [-0.1091,  0.1295,  0.2211,  0.1917,  0.4670]]))"
      ]
     },
     "execution_count": 189,
     "metadata": {},
     "output_type": "execute_result"
    }
   ],
   "source": [
    "z2 = x1 - x2.T\n",
    "x1,x2.T,z2"
   ]
  },
  {
   "cell_type": "code",
   "execution_count": 190,
   "metadata": {},
   "outputs": [
    {
     "data": {
      "text/plain": [
       "(tensor([[0.8071, 0.7818, 0.6377, 0.3608, 0.4805],\n",
       "         [0.7157, 0.7902, 0.2119, 0.9482, 0.2568],\n",
       "         [0.0471, 0.4824, 0.1981, 0.4940, 0.2750],\n",
       "         [0.6720, 0.2285, 0.2737, 0.1402, 0.8384],\n",
       "         [0.2107, 0.4492, 0.5409, 0.5114, 0.7867]]),\n",
       " tensor([2.4526, 2.7320, 1.8623, 2.4546, 2.6375]),\n",
       " tensor([3.0679, 2.9229, 1.4965, 2.1528, 2.4989]))"
      ]
     },
     "execution_count": 190,
     "metadata": {},
     "output_type": "execute_result"
    }
   ],
   "source": [
    "s1 = torch.sum(x1, dim = 0) # total da coluna\n",
    "s2 = torch.sum(x1, dim = 1) # total da linha\n",
    "x1, s1, s2"
   ]
  },
  {
   "cell_type": "code",
   "execution_count": 191,
   "metadata": {},
   "outputs": [
    {
     "data": {
      "text/plain": [
       "(tensor([0.8071, 0.7902, 0.6377, 0.9482, 0.8384]), tensor([0, 1, 0, 1, 3]))"
      ]
     },
     "execution_count": 191,
     "metadata": {},
     "output_type": "execute_result"
    }
   ],
   "source": [
    "values, indices = torch.max(x1, dim = 0)\n",
    "values, indices"
   ]
  },
  {
   "cell_type": "code",
   "execution_count": 192,
   "metadata": {},
   "outputs": [
    {
     "data": {
      "text/plain": [
       "tensor([0, 1, 0, 1, 3])"
      ]
     },
     "execution_count": 192,
     "metadata": {},
     "output_type": "execute_result"
    }
   ],
   "source": [
    "torch.argmax(x1, dim = 0)"
   ]
  },
  {
   "cell_type": "code",
   "execution_count": 193,
   "metadata": {},
   "outputs": [
    {
     "data": {
      "text/plain": [
       "tensor([0.4905, 0.5464, 0.3725, 0.4909, 0.5275])"
      ]
     },
     "execution_count": 193,
     "metadata": {},
     "output_type": "execute_result"
    }
   ],
   "source": [
    "torch.mean(x1, dim = 0)"
   ]
  },
  {
   "cell_type": "code",
   "execution_count": 194,
   "metadata": {},
   "outputs": [
    {
     "data": {
      "text/plain": [
       "tensor([[False, False, False, False, False],\n",
       "        [False, False, False, False, False],\n",
       "        [False, False, False, False, False],\n",
       "        [False, False, False, False, False],\n",
       "        [False, False, False, False, False]])"
      ]
     },
     "execution_count": 194,
     "metadata": {},
     "output_type": "execute_result"
    }
   ],
   "source": [
    "torch.eq(x1,x1+1)"
   ]
  },
  {
   "cell_type": "code",
   "execution_count": 195,
   "metadata": {},
   "outputs": [
    {
     "data": {
      "text/plain": [
       "(tensor([[0.8071, 0.7818, 0.6377, 0.3608, 0.4805],\n",
       "         [0.7157, 0.7902, 0.2119, 0.9482, 0.2568],\n",
       "         [0.0471, 0.4824, 0.1981, 0.4940, 0.2750],\n",
       "         [0.6720, 0.2285, 0.2737, 0.1402, 0.8384],\n",
       "         [0.2107, 0.4492, 0.5409, 0.5114, 0.7867]]),\n",
       " tensor([[0.0471, 0.2285, 0.1981, 0.1402, 0.2568],\n",
       "         [0.2107, 0.4492, 0.2119, 0.3608, 0.2750],\n",
       "         [0.6720, 0.4824, 0.2737, 0.4940, 0.4805],\n",
       "         [0.7157, 0.7818, 0.5409, 0.5114, 0.7867],\n",
       "         [0.8071, 0.7902, 0.6377, 0.9482, 0.8384]]))"
      ]
     },
     "execution_count": 195,
     "metadata": {},
     "output_type": "execute_result"
    }
   ],
   "source": [
    "values, indices = torch.sort(x1, dim = 0, descending = False)\n",
    "x1, values"
   ]
  },
  {
   "cell_type": "code",
   "execution_count": 196,
   "metadata": {},
   "outputs": [
    {
     "data": {
      "text/plain": [
       "tensor([[0.8071, 0.7818, 0.6377, 0.5000, 0.5000],\n",
       "        [0.7157, 0.7902, 0.5000, 0.9482, 0.5000],\n",
       "        [0.5000, 0.5000, 0.5000, 0.5000, 0.5000],\n",
       "        [0.6720, 0.5000, 0.5000, 0.5000, 0.8384],\n",
       "        [0.5000, 0.5000, 0.5409, 0.5114, 0.7867]])"
      ]
     },
     "execution_count": 196,
     "metadata": {},
     "output_type": "execute_result"
    }
   ],
   "source": [
    "torch.clamp(x1, min = 0.5)"
   ]
  },
  {
   "cell_type": "code",
   "execution_count": 197,
   "metadata": {},
   "outputs": [
    {
     "data": {
      "text/plain": [
       "(tensor(True), tensor(False))"
      ]
     },
     "execution_count": 197,
     "metadata": {},
     "output_type": "execute_result"
    }
   ],
   "source": [
    "x = torch.tensor([1,0,1,1,1], dtype = torch.bool)\n",
    "torch.any(x), torch.all(x)"
   ]
  },
  {
   "cell_type": "code",
   "execution_count": 198,
   "metadata": {},
   "outputs": [
    {
     "data": {
      "text/plain": [
       "torch.return_types.max(\n",
       "values=tensor(True),\n",
       "indices=tensor(0))"
      ]
     },
     "execution_count": 198,
     "metadata": {},
     "output_type": "execute_result"
    }
   ],
   "source": [
    "x.max(dim = 0)"
   ]
  },
  {
   "cell_type": "code",
   "execution_count": 199,
   "metadata": {},
   "outputs": [
    {
     "data": {
      "text/plain": [
       "tensor([[0.1874, 0.0612, 0.7390, 0.0827, 0.1627, 0.9198, 0.0411, 0.1568, 0.8179,\n",
       "         0.7167, 0.5540, 0.5075, 0.4937, 0.9051, 0.8369, 0.2020, 0.1622, 0.6543,\n",
       "         0.5273, 0.9241, 0.5212, 0.2204, 0.5993, 0.7249, 0.5500],\n",
       "        [0.8824, 0.7162, 0.2696, 0.2525, 0.4846, 0.6378, 0.0041, 0.1787, 0.4329,\n",
       "         0.8359, 0.0360, 0.5236, 0.5124, 0.8589, 0.5763, 0.0776, 0.2972, 0.2223,\n",
       "         0.6497, 0.5410, 0.6872, 0.5920, 0.5378, 0.8133, 0.3254],\n",
       "        [0.3287, 0.9421, 0.7499, 0.0277, 0.8839, 0.8802, 0.9253, 0.2057, 0.1415,\n",
       "         0.9542, 0.0830, 0.7380, 0.2884, 0.0719, 0.5229, 0.1295, 0.3944, 0.0133,\n",
       "         0.3945, 0.3768, 0.6179, 0.4927, 0.9804, 0.4698, 0.6289],\n",
       "        [0.0620, 0.9467, 0.1210, 0.2359, 0.3404, 0.8901, 0.3082, 0.4838, 0.6456,\n",
       "         0.9619, 0.6650, 0.0660, 0.7969, 0.3927, 0.0171, 0.0831, 0.7598, 0.9895,\n",
       "         0.2515, 0.7418, 0.4572, 0.2795, 0.8696, 0.2822, 0.6174],\n",
       "        [0.0294, 0.5400, 0.7260, 0.5611, 0.2877, 0.5607, 0.2386, 0.6146, 0.0714,\n",
       "         0.3238, 0.2923, 0.4750, 0.6000, 0.5128, 0.7393, 0.5969, 0.7615, 0.6332,\n",
       "         0.1793, 0.3068, 0.0980, 0.2961, 0.6942, 0.8921, 0.2729],\n",
       "        [0.0079, 0.1746, 0.6408, 0.9544, 0.7945, 0.3729, 0.9383, 0.3248, 0.5450,\n",
       "         0.4501, 0.8085, 0.2497, 0.6313, 0.0703, 0.0758, 0.8181, 0.2809, 0.0550,\n",
       "         0.8439, 0.1464, 0.1363, 0.2967, 0.4241, 0.8296, 0.5977],\n",
       "        [0.2691, 0.0776, 0.9713, 0.9996, 0.9624, 0.2207, 0.0558, 0.0314, 0.3816,\n",
       "         0.5691, 0.4087, 0.3262, 0.2788, 0.9260, 0.2584, 0.6584, 0.9097, 0.8500,\n",
       "         0.3330, 0.9536, 0.4035, 0.5963, 0.8301, 0.5073, 0.0444],\n",
       "        [0.5069, 0.5179, 0.4901, 0.5905, 0.6806, 0.3905, 0.3742, 0.3960, 0.8688,\n",
       "         0.4082, 0.8977, 0.6123, 0.1248, 0.5127, 0.7925, 0.6904, 0.7340, 0.8330,\n",
       "         0.4581, 0.2110, 0.9504, 0.4181, 0.2159, 0.5356, 0.1550],\n",
       "        [0.5884, 0.6530, 0.9831, 0.3146, 0.7985, 0.0548, 0.5775, 0.2700, 0.9771,\n",
       "         0.8674, 0.9070, 0.3769, 0.3029, 0.5581, 0.6565, 0.8925, 0.0897, 0.4718,\n",
       "         0.4561, 0.5729, 0.8590, 0.3913, 0.4867, 0.3423, 0.5966],\n",
       "        [0.5854, 0.1359, 0.2571, 0.0419, 0.0551, 0.4188, 0.0517, 0.9451, 0.2213,\n",
       "         0.5610, 0.8346, 0.2085, 0.5268, 0.3013, 0.1463, 0.1292, 0.6199, 0.4959,\n",
       "         0.1412, 0.1939, 0.5378, 0.7347, 0.7094, 0.1977, 0.6946]])"
      ]
     },
     "execution_count": 199,
     "metadata": {},
     "output_type": "execute_result"
    }
   ],
   "source": [
    "batch_size = 10\n",
    "features = 25\n",
    "x = torch.rand((batch_size, features))\n",
    "x"
   ]
  },
  {
   "cell_type": "code",
   "execution_count": 200,
   "metadata": {},
   "outputs": [
    {
     "data": {
      "text/plain": [
       "(tensor([0.1874, 0.0612, 0.7390, 0.0827, 0.1627, 0.9198, 0.0411, 0.1568, 0.8179,\n",
       "         0.7167, 0.5540, 0.5075, 0.4937, 0.9051, 0.8369, 0.2020, 0.1622, 0.6543,\n",
       "         0.5273, 0.9241, 0.5212, 0.2204, 0.5993, 0.7249, 0.5500]),\n",
       " tensor([True, True, True, True, True, True, True, True, True, True, True, True,\n",
       "         True, True, True, True, True, True, True, True, True, True, True, True,\n",
       "         True]))"
      ]
     },
     "execution_count": 200,
     "metadata": {},
     "output_type": "execute_result"
    }
   ],
   "source": [
    "x[0] , x[0] == x[0,:]"
   ]
  },
  {
   "cell_type": "code",
   "execution_count": 201,
   "metadata": {},
   "outputs": [
    {
     "data": {
      "text/plain": [
       "torch.Size([10])"
      ]
     },
     "execution_count": 201,
     "metadata": {},
     "output_type": "execute_result"
    }
   ],
   "source": [
    "x[:,0].shape"
   ]
  },
  {
   "cell_type": "code",
   "execution_count": 202,
   "metadata": {},
   "outputs": [
    {
     "data": {
      "text/plain": [
       "tensor([0.7162, 0.2696, 0.2525, 0.4846, 0.6378, 0.0041, 0.1787, 0.4329, 0.8359])"
      ]
     },
     "execution_count": 202,
     "metadata": {},
     "output_type": "execute_result"
    }
   ],
   "source": [
    "x[1, 1:10]"
   ]
  },
  {
   "cell_type": "code",
   "execution_count": 203,
   "metadata": {},
   "outputs": [
    {
     "data": {
      "text/plain": [
       "tensor([9.0000e+00, 2.6958e-01, 2.5255e-01, 4.8456e-01, 6.3779e-01, 4.0702e-03,\n",
       "        1.7867e-01, 4.3294e-01, 8.3586e-01])"
      ]
     },
     "execution_count": 203,
     "metadata": {},
     "output_type": "execute_result"
    }
   ],
   "source": [
    "x[1, 1] = 9\n",
    "x[1, 1:10]"
   ]
  },
  {
   "cell_type": "code",
   "execution_count": 207,
   "metadata": {},
   "outputs": [
    {
     "data": {
      "text/plain": [
       "tensor([[0.7390, 0.2020, 0.5500],\n",
       "        [0.2696, 0.0776, 0.3254],\n",
       "        [0.7499, 0.1295, 0.6289],\n",
       "        [0.1210, 0.0831, 0.6174],\n",
       "        [0.7260, 0.5969, 0.2729],\n",
       "        [0.6408, 0.8181, 0.5977],\n",
       "        [0.9713, 0.6584, 0.0444],\n",
       "        [0.4901, 0.6904, 0.1550],\n",
       "        [0.9831, 0.8925, 0.5966],\n",
       "        [0.2571, 0.1292, 0.6946]])"
      ]
     },
     "execution_count": 207,
     "metadata": {},
     "output_type": "execute_result"
    }
   ],
   "source": [
    "torch.arange(10)\n",
    "indices = [2,15,24]\n",
    "x[:, indices]"
   ]
  },
  {
   "cell_type": "code",
   "execution_count": 210,
   "metadata": {},
   "outputs": [
    {
     "data": {
      "text/plain": [
       "(tensor([[0.8349, 0.7069, 0.4799, 0.8289, 0.9486],\n",
       "         [0.9923, 0.8319, 0.4292, 0.3191, 0.3869],\n",
       "         [0.8117, 0.3450, 0.9604, 0.0801, 0.6420]]),\n",
       " tensor([0.3869, 0.8289]))"
      ]
     },
     "execution_count": 210,
     "metadata": {},
     "output_type": "execute_result"
    }
   ],
   "source": [
    "x = torch.rand((3,5))\n",
    "rows = torch.tensor([1,0])\n",
    "cols = torch.tensor([4,3])\n",
    "x, x[rows,cols]"
   ]
  },
  {
   "cell_type": "code",
   "execution_count": 211,
   "metadata": {},
   "outputs": [
    {
     "data": {
      "text/plain": [
       "tensor([0, 1, 9])"
      ]
     },
     "execution_count": 211,
     "metadata": {},
     "output_type": "execute_result"
    }
   ],
   "source": [
    "x = torch.arange(10)\n",
    "x[(x < 2) | (x > 8)]"
   ]
  },
  {
   "cell_type": "code",
   "execution_count": 213,
   "metadata": {},
   "outputs": [
    {
     "data": {
      "text/plain": [
       "tensor([1, 3, 5, 7, 9])"
      ]
     },
     "execution_count": 213,
     "metadata": {},
     "output_type": "execute_result"
    }
   ],
   "source": [
    "x[x.remainder(2) != 0]"
   ]
  },
  {
   "cell_type": "code",
   "execution_count": 214,
   "metadata": {},
   "outputs": [
    {
     "data": {
      "text/plain": [
       "tensor([ 0,  1,  2,  3,  4,  5, 36, 49, 64, 81])"
      ]
     },
     "execution_count": 214,
     "metadata": {},
     "output_type": "execute_result"
    }
   ],
   "source": [
    "torch.where(x > 5, x **2, x)"
   ]
  },
  {
   "cell_type": "code",
   "execution_count": 215,
   "metadata": {},
   "outputs": [
    {
     "data": {
      "text/plain": [
       "tensor([0, 1, 3, 5])"
      ]
     },
     "execution_count": 215,
     "metadata": {},
     "output_type": "execute_result"
    }
   ],
   "source": [
    "torch.tensor([0,0,1,1,3,3,3,5]).unique()"
   ]
  },
  {
   "cell_type": "code",
   "execution_count": 218,
   "metadata": {},
   "outputs": [
    {
     "data": {
      "text/plain": [
       "(tensor([0, 1, 2, 3, 4, 5, 6, 7, 8, 9]),\n",
       " tensor([[0.8071, 0.7818, 0.6377, 0.3608, 0.4805],\n",
       "         [0.7157, 0.7902, 0.2119, 0.9482, 0.2568],\n",
       "         [0.0471, 0.4824, 0.1981, 0.4940, 0.2750],\n",
       "         [0.6720, 0.2285, 0.2737, 0.1402, 0.8384],\n",
       "         [0.2107, 0.4492, 0.5409, 0.5114, 0.7867]]))"
      ]
     },
     "execution_count": 218,
     "metadata": {},
     "output_type": "execute_result"
    }
   ],
   "source": [
    "x, x1"
   ]
  },
  {
   "cell_type": "code",
   "execution_count": 219,
   "metadata": {},
   "outputs": [
    {
     "data": {
      "text/plain": [
       "(1, 2)"
      ]
     },
     "execution_count": 219,
     "metadata": {},
     "output_type": "execute_result"
    }
   ],
   "source": [
    "x.ndimension(),x1.ndimension()"
   ]
  },
  {
   "cell_type": "code",
   "execution_count": 220,
   "metadata": {},
   "outputs": [
    {
     "data": {
      "text/plain": [
       "10"
      ]
     },
     "execution_count": 220,
     "metadata": {},
     "output_type": "execute_result"
    }
   ],
   "source": [
    "x.numel() # número de elementos"
   ]
  },
  {
   "cell_type": "markdown",
   "metadata": {},
   "source": [
    "## Reshape"
   ]
  },
  {
   "cell_type": "code",
   "execution_count": 222,
   "metadata": {},
   "outputs": [
    {
     "data": {
      "text/plain": [
       "tensor([[0, 1, 2],\n",
       "        [3, 4, 5],\n",
       "        [6, 7, 8]])"
      ]
     },
     "execution_count": 222,
     "metadata": {},
     "output_type": "execute_result"
    }
   ],
   "source": [
    "x = torch.arange(9)\n",
    "x.view(3,3)"
   ]
  },
  {
   "cell_type": "code",
   "execution_count": 229,
   "metadata": {},
   "outputs": [
    {
     "data": {
      "text/plain": [
       "(tensor([[0, 1, 2],\n",
       "         [3, 4, 5],\n",
       "         [6, 7, 8]]),\n",
       " tensor([[0, 3, 6],\n",
       "         [1, 4, 7],\n",
       "         [2, 5, 8]]))"
      ]
     },
     "execution_count": 229,
     "metadata": {},
     "output_type": "execute_result"
    }
   ],
   "source": [
    "x.reshape(3,3), x.reshape(3,3).T"
   ]
  },
  {
   "cell_type": "code",
   "execution_count": 231,
   "metadata": {},
   "outputs": [
    {
     "data": {
      "text/plain": [
       "tensor([0, 3, 6, 1, 4, 7, 2, 5, 8])"
      ]
     },
     "execution_count": 231,
     "metadata": {},
     "output_type": "execute_result"
    }
   ],
   "source": [
    "x.reshape(3,3).T.reshape(9)"
   ]
  },
  {
   "cell_type": "code",
   "execution_count": 237,
   "metadata": {},
   "outputs": [
    {
     "data": {
      "text/plain": [
       "(tensor([[0.3692, 0.3798, 0.4529, 0.3657, 0.9759],\n",
       "         [0.1588, 0.6576, 0.6988, 0.2759, 0.9625]]),\n",
       " tensor([[0.1829, 0.4525, 0.1918, 0.0590, 0.1737],\n",
       "         [0.5170, 0.6667, 0.9943, 0.3018, 0.4230]]),\n",
       " torch.Size([4, 5]),\n",
       " torch.Size([2, 10]))"
      ]
     },
     "execution_count": 237,
     "metadata": {},
     "output_type": "execute_result"
    }
   ],
   "source": [
    "x1 = torch.rand((2,5))\n",
    "x2 = torch.rand((2,5))\n",
    "t1 = torch.cat( (x1,x2), dim = 0).shape\n",
    "t2 = torch.cat( (x1,x2), dim = 1).shape\n",
    "x1,x2,t1, t2"
   ]
  },
  {
   "cell_type": "code",
   "execution_count": 241,
   "metadata": {},
   "outputs": [
    {
     "data": {
      "text/plain": [
       "(tensor([[0.3692, 0.3798, 0.4529, 0.3657, 0.9759],\n",
       "         [0.1588, 0.6576, 0.6988, 0.2759, 0.9625]]),\n",
       " tensor([0.3692, 0.3798, 0.4529, 0.3657, 0.9759, 0.1588, 0.6576, 0.6988, 0.2759,\n",
       "         0.9625]))"
      ]
     },
     "execution_count": 241,
     "metadata": {},
     "output_type": "execute_result"
    }
   ],
   "source": [
    "x1, x1.reshape(-1)"
   ]
  },
  {
   "cell_type": "code",
   "execution_count": 243,
   "metadata": {},
   "outputs": [
    {
     "data": {
      "text/plain": [
       "(tensor([[[0.1551, 0.9620, 0.9540, 0.2518, 0.4784],\n",
       "          [0.4664, 0.0590, 0.8042, 0.7606, 0.6208]],\n",
       " \n",
       "         [[0.0207, 0.3301, 0.2971, 0.4463, 0.2536],\n",
       "          [0.1890, 0.1117, 0.9890, 0.0878, 0.8271]],\n",
       " \n",
       "         [[0.0694, 0.0727, 0.9309, 0.1627, 0.8396],\n",
       "          [0.0156, 0.9559, 0.1513, 0.7824, 0.2172]]]),\n",
       " tensor([[0.6090, 0.0240, 0.0977, 0.2652, 0.7894, 0.5261, 0.8713, 0.0220, 0.7249,\n",
       "          0.6506],\n",
       "         [0.9732, 0.8168, 0.2000, 0.5593, 0.7682, 0.6986, 0.8301, 0.3222, 0.9144,\n",
       "          0.9324],\n",
       "         [0.6333, 0.1046, 0.5259, 0.0645, 0.8838, 0.1769, 0.9786, 0.9757, 0.1873,\n",
       "          0.6488]]))"
      ]
     },
     "execution_count": 243,
     "metadata": {},
     "output_type": "execute_result"
    }
   ],
   "source": [
    "torch.rand(3,2,5), torch.rand(3,2,5).reshape(3,-1)"
   ]
  },
  {
   "cell_type": "code",
   "execution_count": 252,
   "metadata": {},
   "outputs": [
    {
     "data": {
      "text/plain": [
       "(tensor([[[0.0104, 0.6846, 0.9660, 0.5554, 0.6896],\n",
       "          [0.0984, 0.1527, 0.8882, 0.8178, 0.3924]],\n",
       " \n",
       "         [[0.9049, 0.6969, 0.7852, 0.1662, 0.2093],\n",
       "          [0.4035, 0.3830, 0.6614, 0.1939, 0.8366]],\n",
       " \n",
       "         [[0.7029, 0.5918, 0.6626, 0.4602, 0.8593],\n",
       "          [0.6085, 0.7743, 0.5680, 0.1222, 0.3405]]]),\n",
       " tensor([[[0.0104, 0.0984],\n",
       "          [0.6846, 0.1527],\n",
       "          [0.9660, 0.8882],\n",
       "          [0.5554, 0.8178],\n",
       "          [0.6896, 0.3924]],\n",
       " \n",
       "         [[0.9049, 0.4035],\n",
       "          [0.6969, 0.3830],\n",
       "          [0.7852, 0.6614],\n",
       "          [0.1662, 0.1939],\n",
       "          [0.2093, 0.8366]],\n",
       " \n",
       "         [[0.7029, 0.6085],\n",
       "          [0.5918, 0.7743],\n",
       "          [0.6626, 0.5680],\n",
       "          [0.4602, 0.1222],\n",
       "          [0.8593, 0.3405]]]))"
      ]
     },
     "execution_count": 252,
     "metadata": {},
     "output_type": "execute_result"
    }
   ],
   "source": [
    "x = torch.rand(3,2,5)\n",
    "x, x.permute(0, 2, 1)\n"
   ]
  },
  {
   "cell_type": "code",
   "execution_count": 255,
   "metadata": {},
   "outputs": [
    {
     "data": {
      "text/plain": [
       "(torch.Size([10]), torch.Size([1, 10]), torch.Size([10]))"
      ]
     },
     "execution_count": 255,
     "metadata": {},
     "output_type": "execute_result"
    }
   ],
   "source": [
    "x = torch.arange(10)\n",
    "x.shape, x.unsqueeze(0).shape, x.unsqueeze(0).squeeze(0).shape"
   ]
  },
  {
   "cell_type": "code",
   "execution_count": 261,
   "metadata": {},
   "outputs": [
    {
     "data": {
      "text/plain": [
       "tensor([[[0, 1, 2, 3, 4, 5, 6, 7, 8, 9]]])"
      ]
     },
     "execution_count": 261,
     "metadata": {},
     "output_type": "execute_result"
    }
   ],
   "source": [
    "x.unsqueeze(0).unsqueeze(1)"
   ]
  },
  {
   "cell_type": "code",
   "execution_count": 262,
   "metadata": {},
   "outputs": [
    {
     "data": {
      "text/plain": [
       "torch.Size([1, 1, 10])"
      ]
     },
     "execution_count": 262,
     "metadata": {},
     "output_type": "execute_result"
    }
   ],
   "source": [
    "x.unsqueeze(0).unsqueeze(1).shape"
   ]
  }
 ],
 "metadata": {
  "kernelspec": {
   "display_name": "Python 3",
   "language": "python",
   "name": "python3"
  },
  "language_info": {
   "codemirror_mode": {
    "name": "ipython",
    "version": 3
   },
   "file_extension": ".py",
   "mimetype": "text/x-python",
   "name": "python",
   "nbconvert_exporter": "python",
   "pygments_lexer": "ipython3",
   "version": "3.10.9"
  },
  "orig_nbformat": 4
 },
 "nbformat": 4,
 "nbformat_minor": 2
}
